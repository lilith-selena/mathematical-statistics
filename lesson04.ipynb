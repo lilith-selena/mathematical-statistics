{
 "cells": [
  {
   "cell_type": "markdown",
   "id": "1d8758d0",
   "metadata": {},
   "source": [
    "# Теория вероятностей и математическая статистика\n",
    "##  УУрок 4. Непрерывные случайные величины. Функция распределения и плотность распределения вероятностей. Равномерное и нормальное распределение. Центральная предельная теорема\n",
    "### Задача№1\n",
    "Случайная непрерывная величина A имеет равномерное распределение на промежутке (200, 800].\n",
    "Найдите ее среднее значение и дисперсию.\n",
    "****\n",
    "Используем формулы для определения мат. ожидания и дисперсии для случайной непрерывной величины $X$, равномерно распределённой на отрезке $[a;b]$:  \n",
    "$Математическое ожидание:$\n",
    "$$M(X)=\\frac{a+b}{2}$$\n",
    "$M(X)=\\frac{a+b}{2}=\\frac{200+800}{2}=500$\n",
    "\n",
    "$Дисперсия:$\n",
    "$$D(X)=\\frac{(b-a)^2}{12}$$ \n",
    "$D(X)=\\frac{(b-a)^2}{12}=\\frac{(800-200)^2}{12}=30000$"
   ]
  },
  {
   "cell_type": "code",
   "execution_count": 24,
   "id": "e0ff37a2",
   "metadata": {},
   "outputs": [],
   "source": [
    "import numpy as np\n",
    "from math import factorial"
   ]
  },
  {
   "cell_type": "code",
   "execution_count": 25,
   "id": "8183e75f",
   "metadata": {},
   "outputs": [
    {
     "name": "stdout",
     "output_type": "stream",
     "text": [
      "Математическое ожидание M(X) = 500.0\n"
     ]
    }
   ],
   "source": [
    "def mathematical_expectation(a,b):\n",
    "    return f'Математическое ожидание M(X) = {(a+b)/2}'\n",
    "print(mathematical_expectation(200,800))"
   ]
  },
  {
   "cell_type": "code",
   "execution_count": 26,
   "id": "b03339cf",
   "metadata": {},
   "outputs": [
    {
     "name": "stdout",
     "output_type": "stream",
     "text": [
      "Дисперсия: D(A) = 30000.0\n"
     ]
    }
   ],
   "source": [
    "def variance(a,b):\n",
    "    return f'Дисперсия: D(A) = {((b-a)**2)/12}'\n",
    "print(variance(200,800))"
   ]
  },
  {
   "cell_type": "markdown",
   "id": "6f92931e",
   "metadata": {},
   "source": [
    "### Задача№2\n",
    "О случайной непрерывной равномерно распределенной величине B известно, что ее дисперсия равна 0.2.\n",
    "Можно ли найти правую границу величины B и ее среднее значение зная, что левая граница равна 0.5?\n",
    "Если да, найдите ее.\n",
    "****\n",
    "\n",
    "$D(B)=\\frac{(b-a)^2}{12}$ \n",
    "где $D(B)=0.2$ и $a=0.5$  \n",
    "следовательно\n",
    "\n",
    "$\\frac{(b-0.5)^2}{12}=0.2$\n",
    "\n",
    "$b=0.5+\\sqrt{2.4}$  \n",
    "$ Среднее значение = \\frac{a+b}{2}=\\frac{0.5+0.5+\\sqrt{2.4}}{2}= 0.5+\\sqrt{0.6}$"
   ]
  },
  {
   "cell_type": "code",
   "execution_count": 27,
   "id": "3e1da412",
   "metadata": {},
   "outputs": [
    {
     "name": "stdout",
     "output_type": "stream",
     "text": [
      "Математическое ожидание M(X) = 1.2745966692414834\n"
     ]
    }
   ],
   "source": [
    "a=0.5\n",
    "b=0.5+np.sqrt(2.4)\n",
    "print(mathematical_expectation(a,b))"
   ]
  },
  {
   "cell_type": "markdown",
   "id": "bd639c16",
   "metadata": {},
   "source": [
    "### Задача№3\n",
    "Непрерывная случайная величина X распределена нормально и задана плотностью распределения\n",
    "f(x) = (1 / (4 * sqrt(2*pi))) * (exp(-(x+2)**2) / 32).\n",
    "$f(x) = \\frac{1}{4 \\sqrt{2 \\pi}} e ^ {- \\frac{(x +2)^2}{32}},$\n",
    "\n",
    "Найдите:\n",
    "1. M(X) \n",
    "2. D(X)\n",
    "3. std(X) (среднее квадратичное отклонение)\n",
    "***\n",
    "$$f(x) = \\frac{1}{\\sigma \\sqrt{2 \\pi}} e ^ {- \\frac{(x - a)^2}{2 \\sigma^2}},$$\n",
    "где $a = M(X), \\; \\sigma^2 = D(X)$\n",
    "\n",
    "тогда\n",
    "$M(X)= a = -2 \\\\\n",
    "D(X) =\\sigma^2 = 16$"
   ]
  },
  {
   "cell_type": "markdown",
   "id": "3b21a2e6",
   "metadata": {},
   "source": [
    "### Задача№4\n",
    "Рост взрослого населения города X имеет нормальное распределение.\n",
    "Причем, средний рост равен 174 см, а среднее квадратичное отклонение равно 8 см.\n",
    "Какова вероятность того, что случайным образом выбранный взрослый человек имеет рост:\n",
    "1. больше 182 см\n",
    "2. больше 190 см\n",
    "3. от 166 см до 190 см\n",
    "4. от 166 см до 182 см\n",
    "5. от 158 см до 190 см\n",
    "6. не выше 150 см или не ниже 190 см\n",
    "7. не выше 150 см или не ниже 198 см\n",
    "8. ниже 166 см.\n",
    "***"
   ]
  },
  {
   "cell_type": "code",
   "execution_count": 28,
   "id": "c31a11fd",
   "metadata": {},
   "outputs": [],
   "source": [
    "from statistics import NormalDist"
   ]
  },
  {
   "cell_type": "code",
   "execution_count": 29,
   "id": "77916fca",
   "metadata": {},
   "outputs": [],
   "source": [
    "def z_value(height):\n",
    "    return (height-174)/8"
   ]
  },
  {
   "cell_type": "markdown",
   "id": "80a6aabe",
   "metadata": {},
   "source": [
    "1. Для расчета вероятности используем $1- NormalDist().cdf(z_value(182))$"
   ]
  },
  {
   "cell_type": "code",
   "execution_count": 30,
   "id": "dfb5d1ac",
   "metadata": {},
   "outputs": [
    {
     "data": {
      "text/plain": [
       "0.15865525393145719"
      ]
     },
     "execution_count": 30,
     "metadata": {},
     "output_type": "execute_result"
    }
   ],
   "source": [
    "P=1-NormalDist().cdf(z_value(182))\n",
    "P"
   ]
  },
  {
   "cell_type": "markdown",
   "id": "8a349052",
   "metadata": {},
   "source": [
    "2."
   ]
  },
  {
   "cell_type": "code",
   "execution_count": 31,
   "id": "a80d9f94",
   "metadata": {},
   "outputs": [
    {
     "data": {
      "text/plain": [
       "0.022750131948179098"
      ]
     },
     "execution_count": 31,
     "metadata": {},
     "output_type": "execute_result"
    }
   ],
   "source": [
    "P=1-NormalDist().cdf(z_value(190))\n",
    "P"
   ]
  },
  {
   "cell_type": "markdown",
   "id": "6b688b1a",
   "metadata": {},
   "source": [
    "3."
   ]
  },
  {
   "cell_type": "code",
   "execution_count": 32,
   "id": "0642d638",
   "metadata": {},
   "outputs": [
    {
     "data": {
      "text/plain": [
       "0.8185946141203637"
      ]
     },
     "execution_count": 32,
     "metadata": {},
     "output_type": "execute_result"
    }
   ],
   "source": [
    "P=NormalDist().cdf(z_value(190))-NormalDist().cdf(z_value(166))\n",
    "P"
   ]
  },
  {
   "cell_type": "markdown",
   "id": "78ce4df2",
   "metadata": {},
   "source": [
    "4."
   ]
  },
  {
   "cell_type": "code",
   "execution_count": 33,
   "id": "ad655add",
   "metadata": {},
   "outputs": [
    {
     "data": {
      "text/plain": [
       "0.6826894921370856"
      ]
     },
     "execution_count": 33,
     "metadata": {},
     "output_type": "execute_result"
    }
   ],
   "source": [
    "P=NormalDist().cdf(z_value(182))-NormalDist().cdf(z_value(166))\n",
    "P"
   ]
  },
  {
   "cell_type": "markdown",
   "id": "d4404085",
   "metadata": {},
   "source": [
    "5."
   ]
  },
  {
   "cell_type": "code",
   "execution_count": 34,
   "id": "137ce5b4",
   "metadata": {},
   "outputs": [
    {
     "data": {
      "text/plain": [
       "0.9544997361036418"
      ]
     },
     "execution_count": 34,
     "metadata": {},
     "output_type": "execute_result"
    }
   ],
   "source": [
    "P=NormalDist().cdf(z_value(190))-NormalDist().cdf(z_value(158))\n",
    "P"
   ]
  },
  {
   "cell_type": "markdown",
   "id": "c71e0b10",
   "metadata": {},
   "source": [
    "6."
   ]
  },
  {
   "cell_type": "code",
   "execution_count": 35,
   "id": "d97ba98e",
   "metadata": {},
   "outputs": [
    {
     "data": {
      "text/plain": [
       "0.0241000299798092"
      ]
     },
     "execution_count": 35,
     "metadata": {},
     "output_type": "execute_result"
    }
   ],
   "source": [
    "P=NormalDist().cdf(z_value(150))+(1-NormalDist().cdf(z_value(190)))\n",
    "P"
   ]
  },
  {
   "cell_type": "markdown",
   "id": "cea19193",
   "metadata": {},
   "source": [
    "7."
   ]
  },
  {
   "cell_type": "code",
   "execution_count": 36,
   "id": "8546e983",
   "metadata": {},
   "outputs": [
    {
     "data": {
      "text/plain": [
       "0.002699796063260207"
      ]
     },
     "execution_count": 36,
     "metadata": {},
     "output_type": "execute_result"
    }
   ],
   "source": [
    "P=NormalDist().cdf(z_value(150))+(1-NormalDist().cdf(z_value(198)))\n",
    "P"
   ]
  },
  {
   "cell_type": "markdown",
   "id": "07b78877",
   "metadata": {},
   "source": [
    "8."
   ]
  },
  {
   "cell_type": "code",
   "execution_count": 37,
   "id": "e75eb134",
   "metadata": {},
   "outputs": [
    {
     "data": {
      "text/plain": [
       "0.15865525393145713"
      ]
     },
     "execution_count": 37,
     "metadata": {},
     "output_type": "execute_result"
    }
   ],
   "source": [
    "P=NormalDist().cdf(z_value(166))\n",
    "P"
   ]
  },
  {
   "cell_type": "markdown",
   "id": "77ad6d33",
   "metadata": {},
   "source": [
    "### Задача№5\n",
    "На сколько сигм (средних квадратичных отклонений) отклоняется рост человека, равный 190 см, от\n",
    "математического ожидания роста в популяции, в которой M(X) = 178 см и D(X) = 25 кв.см?\n",
    "***\n",
    "Если:\n",
    "$$ Z=\\frac{X-\\bar x}{\\sigma}$$\n",
    "$то\\\\=\\frac{190-178}{\\sqrt{25}}=\\frac{12}{5}=2.4$    "
   ]
  }
 ],
 "metadata": {
  "kernelspec": {
   "display_name": "Python 3 (ipykernel)",
   "language": "python",
   "name": "python3"
  },
  "language_info": {
   "codemirror_mode": {
    "name": "ipython",
    "version": 3
   },
   "file_extension": ".py",
   "mimetype": "text/x-python",
   "name": "python",
   "nbconvert_exporter": "python",
   "pygments_lexer": "ipython3",
   "version": "3.9.12"
  }
 },
 "nbformat": 4,
 "nbformat_minor": 5
}
