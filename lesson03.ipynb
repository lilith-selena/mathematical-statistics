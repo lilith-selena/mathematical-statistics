{
 "cells": [
  {
   "cell_type": "markdown",
   "id": "1d8758d0",
   "metadata": {},
   "source": [
    "# Теория вероятностей и математическая статистика\n",
    "##  Урок 3. Описательная статистика. Качественные и количественные характеристики популяции. Графическое представление данных\n",
    "### Задача№1\n",
    "Даны значения зарплат из выборки выпускников: 100, 80, 75, 77, 89, 33, 45, 25, 65, 17, 30, 24, 57, 55, 70, 75, 65, 84, 90, 150. Посчитать (желательно без использования статистических методов наподобие std, var, mean) среднее арифметическое, среднее квадратичное отклонение, смещенную и несмещенную оценки дисперсий для данной выборки.\n",
    "****\n",
    "Среднее арефметическое вычисляется по формуле\n",
    "$$M(X) = \\frac{1}{n} \\sum\\limits_{i=1}^{n} x_i$$\n",
    "$$M(X) = \\frac{100+80+75+77+89+33+45+25+65+17+30+24+57+55+70+75+65+84+90+150}{20} =\\frac{1306}{20}=65.3$$\n",
    "среднее квадратичное отклонение:\n",
    "$$\\sigma = \\sqrt{\\frac{\\sum\\limits_{i=1}^{n} (x_i - \\overline{x})^2}{n}}$$\n",
    "$\\sigma = \\sqrt{\\frac{(100-65,5)^2+(80-65,5)^2+(75-65,5)^2+(77-65,5)^2+(89-65,5)^2+(33-65,5)^2+(45-65,5)^2+(25-65,5)^2+(65-65,5)^2+(17-65,5)^2+(30-65,5)^2+(24-65,5)^2+(57-65,5)^2+(55-65,5)^2+(70-65,5)^2+(75-65,5)^2+(65-65,5)^2+(84-65,5)^2+(90-65,5)^2+(150-65,5)^2}{20}}=\\sqrt{\\frac{19002,2}{20}}=\\sqrt{950,11}\\approx30,823854$\n",
    "Cмещенная дисперсия\n",
    "$$\\sigma^2 = \\frac{\\sum\\limits_{i=1}^{n} (x_i - \\overline{x})^2}{n}$$\n",
    "$\\sigma^2=\\frac{(100-65,5)^2+(80-65,5)^2+(75-65,5)^2+(77-65,5)^2+(89-65,5)^2+(33-65,5)^2+(45-65,5)^2+(25-65,5)^2+(65-65,5)^2+(17-65,5)^2+(30-65,5)^2+(24-65,5)^2+(57-65,5)^2+(55-65,5)^2+(70-65,5)^2+(75-65,5)^2+(65-65,5)^2+(84-65,5)^2+(90-65,5)^2+(150-65,5)^2}{20}=950,11$\n",
    "Несмещенная дисперсия\n",
    "$$\\sigma^2_{несмещ.} = \\frac{\\sum\\limits_{i=1}^{n} (x_i - \\overline{x})^2}{n - 1}$$\n",
    "$\\sigma^2=\\frac{(100-65,5)^2+(80-65,5)^2+(75-65,5)^2+(77-65,5)^2+(89-65,5)^2+(33-65,5)^2+(45-65,5)^2+(25-65,5)^2+(65-65,5)^2+(17-65,5)^2+(30-65,5)^2+(24-65,5)^2+(57-65,5)^2+(55-65,5)^2+(70-65,5)^2+(75-65,5)^2+(65-65,5)^2+(84-65,5)^2+(90-65,5)^2+(150-65,5)^2}{20-1}=1000.116$"
   ]
  },
  {
   "cell_type": "code",
   "execution_count": 5,
   "id": "95ed9acf",
   "metadata": {},
   "outputs": [
    {
     "data": {
      "text/plain": [
       "array([100,  80,  75,  77,  89,  33,  45,  25,  65,  17,  30,  24,  57,\n",
       "        55,  70,  75,  65,  84,  90, 150])"
      ]
     },
     "execution_count": 5,
     "metadata": {},
     "output_type": "execute_result"
    }
   ],
   "source": [
    "import numpy as np\n",
    "from math import factorial\n",
    "arr=np.array([100, 80, 75, 77, 89, 33, 45, 25, 65, 17, 30, 24, 57, 55, 70, 75, 65, 84, 90, 150])\n",
    "arr"
   ]
  },
  {
   "cell_type": "code",
   "execution_count": 6,
   "id": "b54b1b0b",
   "metadata": {},
   "outputs": [
    {
     "data": {
      "text/plain": [
       "65.3"
      ]
     },
     "execution_count": 6,
     "metadata": {},
     "output_type": "execute_result"
    }
   ],
   "source": [
    "np.mean(arr)"
   ]
  },
  {
   "cell_type": "code",
   "execution_count": 7,
   "id": "3e0058a8",
   "metadata": {},
   "outputs": [
    {
     "data": {
      "text/plain": [
       "30.823854398825596"
      ]
     },
     "execution_count": 7,
     "metadata": {},
     "output_type": "execute_result"
    }
   ],
   "source": [
    "np.std(arr)"
   ]
  },
  {
   "cell_type": "code",
   "execution_count": 8,
   "id": "44403299",
   "metadata": {},
   "outputs": [
    {
     "data": {
      "text/plain": [
       "950.11"
      ]
     },
     "execution_count": 8,
     "metadata": {},
     "output_type": "execute_result"
    }
   ],
   "source": [
    "np.var(arr)"
   ]
  },
  {
   "cell_type": "code",
   "execution_count": 9,
   "id": "1d0e5a04",
   "metadata": {},
   "outputs": [
    {
     "data": {
      "text/plain": [
       "1000.1157894736842"
      ]
     },
     "execution_count": 9,
     "metadata": {},
     "output_type": "execute_result"
    }
   ],
   "source": [
    "np.var(arr, ddof=1)"
   ]
  },
  {
   "cell_type": "markdown",
   "id": "6f92931e",
   "metadata": {},
   "source": [
    "### Задача№2\n",
    "В первом ящике находится 8 мячей, из которых 5 - белые. Во втором ящике - 12 мячей, из которых 5 белых. Из первого ящика вытаскивают случайным образом два мяча, из второго - 4. Какова вероятность того, что 3 мяча белые?\n",
    "****\n",
    "События $A$-из первого ящика извлекли 2 белых мяча $B$-из второго 1 белый остальные 3 не белые,\n",
    "События $C$-из первого ящика извлекли 1 белых мяч и 1 не белый $D$-из второго извлекли 2 белых и 2 не белых, \n",
    "События $E$-из первого ящика извлекли 0 белых мячей, $F$-из второго 3 белый и 1 не белый мяч.\n",
    "полная вероятность событий P равна сумме этих событий:  \n",
    "$P=P(A)\\cdot P(B)+P(C)\\cdot P(D)+P(E)\\cdot P(F)$  "
   ]
  },
  {
   "cell_type": "markdown",
   "id": "651d7d4f",
   "metadata": {},
   "source": [
    "$P = P(A)\\cdot P(B)+P(C)\\cdot P(D)+P(E)\\cdot P(F)=\\frac{C_{5}^2\\cdot C_{3}^0}{C_{8}^2}\\cdot\\frac{C_{5}^1\\cdot C_{7}^3}{C_{12}^4}+\\frac{C_{5}^1\\cdot C_{3}^1}{C_{8}^2}\\cdot\\frac{C_{5}^2\\cdot C_{7}^2}{C_{12}^4}+\\frac{C_{5}^0\\cdot C_{3}^2}{C_{8}^2}\\cdot\\frac{C_{5}^3\\cdot C_{7}^1}{C_{12}^4}\\approx0.368687$"
   ]
  },
  {
   "cell_type": "code",
   "execution_count": 10,
   "id": "05744192",
   "metadata": {},
   "outputs": [],
   "source": [
    "import numpy as np\n",
    "from math import factorial\n",
    "from math import exp\n",
    "\n",
    "def combinations(n, k):\n",
    "    return int(factorial(n) / (factorial(k) * factorial(n - k)))"
   ]
  },
  {
   "cell_type": "code",
   "execution_count": 11,
   "id": "206fd9b1",
   "metadata": {},
   "outputs": [
    {
     "data": {
      "text/plain": [
       "0.3686868686868687"
      ]
     },
     "execution_count": 11,
     "metadata": {},
     "output_type": "execute_result"
    }
   ],
   "source": [
    "P = ((combinations(5, 2)*combinations(3, 0))/combinations(8, 2))*(combinations(5, 1)*combinations(7, 3)/combinations(12, 4))+((combinations(5, 1)*combinations(3, 1))/combinations(8, 2))*(combinations(5, 2)*combinations(7, 2)/combinations(12, 4))+((combinations(5, 0)*combinations(3, 2))/combinations(8, 2))*(combinations(5, 3)*combinations(7, 1)/combinations(12, 4))\n",
    "P"
   ]
  },
  {
   "cell_type": "markdown",
   "id": "bd639c16",
   "metadata": {},
   "source": [
    "### Задача№3\n",
    "В университет на факультеты A и B поступило равное количество студентов, а на факультет C студентов поступило столько же, сколько на A и B вместе. Вероятность того, что студент факультета A сдаст первую сессию, равна 0.8. Для студента факультета B эта вероятность равна 0.7, а для студента факультета C - 0.9. Студент сдал первую сессию. Какова вероятность, что он учится: \n",
    "1. на факультете A \n",
    "2. на факультете B \n",
    "3. на факультете C?\n",
    "***\n",
    "Чтобы определить вероятность события $B$ при условии, что событие $A$ уже произошло, используют формулу Байеса:\n",
    "$$P(B\\:|\\:A) = \\frac{P(B) \\cdot P(A\\:|\\:B)}{P(A)}$$\n",
    "Из системы \n",
    "$$\\begin{cases}\n",
    "A=B,\\\\\n",
    "A+B = C,\\\\\n",
    "A+B+C = 1\n",
    "\\end{cases}$$\n",
    "находим что вероятность того что студент сдал сессию учится на факультете А = 1/4, В = 1/4, С=1/2.\n",
    "\n",
    "Полная вероятность всех этих событий будет расчитываться по формуле:\n",
    "$$P(A) = P(B_1) \\cdot P(A\\:|\\:B_1) + P(B_2) \\cdot P(A\\:|\\:B_2) \\; + ... + \\; P(B_n) \\cdot P(A\\:|\\:B_n)$$\n",
    "\n",
    "$P(А)=\\frac{1}{4} \\cdot 0,8 + \\frac{1}{4} \\cdot 0,7 + \\frac{1}{2} \\cdot 0,9 = \\frac{33}{40}$"
   ]
  },
  {
   "cell_type": "markdown",
   "id": "6e507205",
   "metadata": {},
   "source": [
    "1)\n",
    "$P(А\\:|\\:В_{1}) = 0,8$\n",
    "$P(А\\:|\\:В_{1}) = \\frac{P(B_{1}) \\cdot P(А\\:|\\:В_{1})}{P(A)}= \\frac{\\frac{1}{4}\\cdot 0,8}{\\frac{33}{40}}= \\frac{8}{33}\\approx 0,242424$\n",
    "\n",
    "2)\n",
    "$P(А\\:|\\:В_{2}) = 0,7$\n",
    "$P(А\\:|\\:В_{2}) = \\frac{P(B_{2}) \\cdot P(А\\:|\\:В_{2})}{P(A)}= \\frac{\\frac{1}{4}\\cdot 0,7}{\\frac{33}{40}}= \\frac{7}{33}\\approx 0,212121$\n",
    "\n",
    "3)\n",
    "$P(А\\:|\\:В_{3}) = 0,9$\n",
    "$P(А\\:|\\:В_{3}) = \\frac{P(B_{3}) \\cdot P(А\\:|\\:В_{3})}{P(A)}= \\frac{\\frac{1}{2}\\cdot 0,9}{\\frac{33}{40}}= \\frac{6}{11}\\approx 0,545454$"
   ]
  },
  {
   "cell_type": "code",
   "execution_count": 12,
   "id": "d62b45f2",
   "metadata": {},
   "outputs": [],
   "source": [
    "def probability_of_an_event(PAB,probability):\n",
    "    return (1/probability)*PAB/(33/40)"
   ]
  },
  {
   "cell_type": "code",
   "execution_count": 13,
   "id": "23f694c0",
   "metadata": {},
   "outputs": [
    {
     "data": {
      "text/plain": [
       "0.24242424242424246"
      ]
     },
     "execution_count": 13,
     "metadata": {},
     "output_type": "execute_result"
    }
   ],
   "source": [
    "PAB1 = probability_of_an_event(0.8,4)\n",
    "PAB1"
   ]
  },
  {
   "cell_type": "code",
   "execution_count": 14,
   "id": "01a73d36",
   "metadata": {},
   "outputs": [
    {
     "data": {
      "text/plain": [
       "0.21212121212121213"
      ]
     },
     "execution_count": 14,
     "metadata": {},
     "output_type": "execute_result"
    }
   ],
   "source": [
    "PAB2 = probability_of_an_event(0.7,4)\n",
    "PAB2"
   ]
  },
  {
   "cell_type": "code",
   "execution_count": 15,
   "id": "1cad1e17",
   "metadata": {},
   "outputs": [
    {
     "data": {
      "text/plain": [
       "0.5454545454545455"
      ]
     },
     "execution_count": 15,
     "metadata": {},
     "output_type": "execute_result"
    }
   ],
   "source": [
    "PAB3 = probability_of_an_event(0.9,2)\n",
    "PAB3"
   ]
  },
  {
   "cell_type": "markdown",
   "id": "3b21a2e6",
   "metadata": {},
   "source": [
    "### Задача№4\n",
    "Устройство состоит из трех деталей. Для первой детали вероятность выйти из строя в первый месяц равна 0.1, для второй - 0.2, для третьей - 0.25. Какова вероятность того, что в первый месяц выйдут из строя: \n",
    "1. все детали \n",
    "2. только две детали \n",
    "3. хотя бы одна деталь \n",
    "4. от одной до двух деталей?\n",
    "***\n",
    "\n",
    "1)\n",
    "Одновременно из строя вышли три детали вероятность эго события вычисляется как произведение вероятностей событий выхода из строя этих деталей \n",
    "$P(полн)=P(A)\\cdot P(B)\\cdot P(С)=0.1\\cdot0.2\\cdot0.25 = 0,005$\n",
    "\n",
    "2)\n",
    "Предположим что из строя вышли 2 детали или 1 и 2, или 1 и 3, или 2 и 3, а оставшаяся осталась в рабочем состоянии\n",
    "$P(полн)=P(A)\\cdot P(B)\\cdot (1-P(С))+P(A)\\cdot P(С)\\cdot (1-P(B))+P(B)\\cdot P(C)\\cdot (1-P(A))=0.1\\cdot0.2\\cdot(1-0.25) + 0.1\\cdot0.25\\cdot(1-0.2) + 0.2\\cdot0.25\\cdot(1-0.1) = 0,08$\n",
    "\n",
    "3)\n",
    "Предположим что 2 детали или 1 и 2, или 1 и 3, или 2 и 3 осталась в рабочем состоянии, а одна вышла из строя. Решается аналогично варианту 2.\n",
    "$P(полн)=(1-P(A))\\cdot (1-P(B))\\cdot P(С)+(1-P(A))\\cdot (1-P(С))\\cdot P(B)+(1-P(B))\\cdot (1-P(C))\\cdot P(A)=(1-0.1)\\cdot(1-0.2)\\cdot 0.25 +(1-0.1)\\cdot(1-0.25)\\cdot 0.2 + (1-0.2)\\cdot(1-0.25)\\cdot 0.1 = 0,375$\n",
    "\n",
    "4)\n",
    "Предположим из строя вышла одна деталь\n",
    "$$\\begin{pmatrix}\n",
    "первая & вторая & третья\\\\\n",
    "0 & 1 & 1\\\\ \n",
    "1 & 0 & 1\\\\ \n",
    "1 & 1 & 0\n",
    "\\end{pmatrix}$$\n",
    "Это третий случай $P3=0,375$\n",
    "\n",
    "предположим из строя вышли две детали\n",
    "$$\\begin{pmatrix}\n",
    "первая & вторая & третья\\\\\n",
    "1 & 0 & 0\\\\ \n",
    "0 & 1 & 0\\\\ \n",
    "0 & 0 & 1\n",
    "\\end{pmatrix}$$\n",
    "Это второй случай $P2=0,08$\n",
    "\n",
    "Тогда $P(полн) = P2+P3 = 0,375 + 0,08 = 0,455$"
   ]
  }
 ],
 "metadata": {
  "kernelspec": {
   "display_name": "Python 3 (ipykernel)",
   "language": "python",
   "name": "python3"
  },
  "language_info": {
   "codemirror_mode": {
    "name": "ipython",
    "version": 3
   },
   "file_extension": ".py",
   "mimetype": "text/x-python",
   "name": "python",
   "nbconvert_exporter": "python",
   "pygments_lexer": "ipython3",
   "version": "3.9.12"
  }
 },
 "nbformat": 4,
 "nbformat_minor": 5
}
