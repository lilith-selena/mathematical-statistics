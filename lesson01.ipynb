{
 "cells": [
  {
   "cell_type": "markdown",
   "id": "1d8758d0",
   "metadata": {},
   "source": [
    "# Теория вероятностей и математическая статистика\n",
    "## Урок 1. Случайные события. Условная вероятность. Формула Байеса. Независимые испытания\n",
    "### Задача№1\n",
    "Из колоды в 52 карты извлекаются случайным образом 4 карты.\n",
    "\n",
    "a) Найти вероятность того, что все карты – крести.\n",
    "\n",
    "б) Найти вероятность, что среди 4-х карт окажется хотя бы один туз."
   ]
  },
  {
   "cell_type": "markdown",
   "id": "90ff9544",
   "metadata": {},
   "source": [
    "a)$$P(A) = \\frac{m}{n}$$\n",
    "В колоде 52 карты и 4 разных масти. Вначале извлекается первая карта вероятность того что она будет крести.\n",
    "\n",
    "$$P(А_{1}) = \\frac{13}{52} $$ \n",
    "13 карт каждой масти.\n",
    "\n",
    "Если карта уже извлечена, то вероятность того что следующая будет крести:\n",
    "$$P(А_{2}) = \\frac{12}{51}$$ \n",
    "и так далее:\n",
    "$$P(А_{3}) = \\frac{11}{50}$$ \n",
    "$$P(А_{4}) = \\frac{10}{49}$$ \n",
    "\n",
    "События не зависят друг от друга\n",
    "$$P(А) = P(А_{1}) \\cdot P(А_{2})\\cdot P(А_{3})\\cdot P(А_{4}) = \\frac{13}{52} \\cdot \\frac{12}{51}\\cdot \\frac{11}{50}\\cdot \\frac{10}{49} = \\frac{11}{17\\cdot5\\cdot49} = \\frac{11}{4165}\\approx 0,002641$$ \n",
    "\n",
    "\n",
    "Решим через сочетание \n",
    "$$C_n^k = \\frac{n!}{k!(n - k)!}$$\n",
    "Сочетаний удовлетворяющих условию будет 4 из 13 $C_{13}^4 = \\frac{13!}{4!(13 - 4)!}$\n",
    "\n",
    "Всего Возможных исхода 4 из 52 карт $C_{52}^4 = \\frac{54!}{4!(52 - 4)!}$\n",
    "\n",
    "$$P = \\frac{C_{13}^4}{C_{52}^4}= \\frac{\\frac{13!}{4!(13 - 4)!}}{\\frac{54!}{4!(52 - 4)!}}= \\frac{13!48!}{9!52!} = \\frac{11}{4165}\\approx 0,002641 $$"
   ]
  },
  {
   "cell_type": "code",
   "execution_count": 19,
   "id": "95ed9acf",
   "metadata": {},
   "outputs": [],
   "source": [
    "import numpy as np\n",
    "from math import factorial"
   ]
  },
  {
   "cell_type": "code",
   "execution_count": 20,
   "id": "ba67709a",
   "metadata": {},
   "outputs": [],
   "source": [
    "def combinations(n, k):\n",
    "    return int(factorial(n) / (factorial(k) * factorial(n - k)))"
   ]
  },
  {
   "cell_type": "code",
   "execution_count": 21,
   "id": "e34fda10",
   "metadata": {},
   "outputs": [],
   "source": [
    "def probability(m,n):\n",
    "    return (m / n)"
   ]
  },
  {
   "cell_type": "code",
   "execution_count": 22,
   "id": "172af36a",
   "metadata": {},
   "outputs": [
    {
     "data": {
      "text/plain": [
       "0.5"
      ]
     },
     "execution_count": 22,
     "metadata": {},
     "output_type": "execute_result"
    }
   ],
   "source": [
    "probability(12,24)"
   ]
  },
  {
   "cell_type": "code",
   "execution_count": 23,
   "id": "66fd8ae8",
   "metadata": {},
   "outputs": [
    {
     "data": {
      "text/plain": [
       "0.0026410564225690276"
      ]
     },
     "execution_count": 23,
     "metadata": {},
     "output_type": "execute_result"
    }
   ],
   "source": [
    "P = combinations(13,4)/combinations(52,4)\n",
    "P"
   ]
  },
  {
   "cell_type": "code",
   "execution_count": 24,
   "id": "b2e6c034",
   "metadata": {},
   "outputs": [
    {
     "data": {
      "text/plain": [
       "0.0026410564225690276"
      ]
     },
     "execution_count": 24,
     "metadata": {},
     "output_type": "execute_result"
    }
   ],
   "source": [
    "A1 = probability(13,52)\n",
    "A2 = probability(12,51)\n",
    "A3 = probability(11,50)\n",
    "A4 = probability(10,49)\n",
    "P =A1*A2*A3*A4\n",
    "P"
   ]
  },
  {
   "cell_type": "markdown",
   "id": "81249a2e",
   "metadata": {},
   "source": [
    "----"
   ]
  },
  {
   "cell_type": "markdown",
   "id": "fbf91996",
   "metadata": {},
   "source": [
    "в)\n",
    "предположим что из 4-х извлеченных карт не оказалось ни одного туза, тогда \n",
    "$$C_{48}^4 = \\frac{48!}{4!(48 - 4)!}$$\n",
    "число удачных исходов при отсутствии тузов в колоде\n",
    "Всего Возможных исхода 4 из 52 карт $$C_{52}^4 = \\frac{54!}{4!(52 - 4)!}$$\n",
    "$$P(A)=1-\\frac{C_{48}^4}{C_{52}^4}=1-\\frac{\\frac{48!}{4!(48 - 4)!}}{\\frac{54!}{4!(52 - 4)!}}=1-\\frac{48!48!}{44!52!} = 1-\\frac{38916}{54145}=\\frac{15229}{54145}\\approx 0,281263 $$ "
   ]
  },
  {
   "cell_type": "code",
   "execution_count": 25,
   "id": "d1a95d28",
   "metadata": {},
   "outputs": [
    {
     "data": {
      "text/plain": [
       "0.2812632745405854"
      ]
     },
     "execution_count": 25,
     "metadata": {},
     "output_type": "execute_result"
    }
   ],
   "source": [
    "P_b = 1- combinations(48,4)/combinations(52,4)\n",
    "P_b"
   ]
  },
  {
   "cell_type": "markdown",
   "id": "6f92931e",
   "metadata": {},
   "source": [
    "### Задача№2\n",
    "На входной двери подъезда установлен кодовый замок, содержащий десять кнопок с цифрами от 0 до 9. Код содержит три цифры, которые нужно нажать одновременно. Какова вероятность того, что человек, не знающий код, откроет дверь с первой попытки?\n",
    "\n",
    "Кнопки необходимо нажать одновременно и общее количество элементо в определяется сочетанием 3 из 10 цифр (0-9), тогда $P(A)=\\frac{m}{n}$, где $m = 1$ всего одно удачное сочетание, а  $n=C^3_{10}$, \n",
    "\n",
    "$$P(A)=1-\\frac{1}{C_{10}^3} = \\frac{1}{\\frac{10!}{3!(10 - 3)!}} = \\frac{3!\\cdot 7!}{10!}= \\frac{1\\cdot 2 \\cdot 3}{8\\cdot 9 \\cdot 10} = \\frac{1}{120}\\approx 0,008333 $$\n"
   ]
  },
  {
   "cell_type": "code",
   "execution_count": 26,
   "id": "502c0c90",
   "metadata": {},
   "outputs": [
    {
     "data": {
      "text/plain": [
       "0.008333333333333333"
      ]
     },
     "execution_count": 26,
     "metadata": {},
     "output_type": "execute_result"
    }
   ],
   "source": [
    "P = 1/(combinations(10,3))\n",
    "P"
   ]
  },
  {
   "cell_type": "markdown",
   "id": "bd639c16",
   "metadata": {},
   "source": [
    "### Задача№3\n",
    "В ящике имеется 15 деталей, из которых 9 окрашены. Рабочий случайным образом извлекает 3 детали. Какова вероятность того, что все извлеченные детали окрашены?"
   ]
  },
  {
   "cell_type": "markdown",
   "id": "9a3f2cfd",
   "metadata": {},
   "source": [
    "Общее количество исходов будет определяться количеством сочетаний 3 деталей из 15 $n=C^3_{15}$, а количество благоприятных исходов - количеством сочетаний 3 окрашенных деталей из 9  $m=C^3_{9}$  \n",
    "\n",
    "$$P(A)=\\frac{C_{9}^3}{C_{15}^3}=\\frac{\\frac{9!}{3!(9-3)!}}{\\frac{15!}{3!(15-3)!}}=\\frac{9!12!}{6!15!} = \\frac{7 \\cdot 8 \\cdot 9}{13 \\cdot 14 \\cdot 15}=\\frac{504}{2730}\\approx 0,184615 $$ "
   ]
  },
  {
   "cell_type": "markdown",
   "id": "734472e1",
   "metadata": {},
   "source": [
    "Или если рассматривать через вероятности, то появление по очереди окрашенных  деталей из ящика будет равно\n",
    "$$P(А_{1}) = \\frac{9}{15}$$ \n",
    "$$P(А_{2}) = \\frac{8}{14}$$ \n",
    "$$P(А_{3}) = \\frac{7}{13}$$ \n",
    "События происходят одно за другим и являются зависимыми следовательно\n",
    "$$P(А) = P(А_{1}) \\cdot P(А_{2})\\cdot P(А_{2})= \\frac{9}{15}\\cdot \\frac{8}{14}\\cdot\\frac{7}{13}\\cdot = \\frac{7 \\cdot 8 \\cdot 9}{13 \\cdot 14 \\cdot 15}=\\frac{504}{2730}\\approx 0,184615 $$ \n"
   ]
  },
  {
   "cell_type": "code",
   "execution_count": 27,
   "id": "78cb5d99",
   "metadata": {},
   "outputs": [
    {
     "data": {
      "text/plain": [
       "0.18461538461538463"
      ]
     },
     "execution_count": 27,
     "metadata": {},
     "output_type": "execute_result"
    }
   ],
   "source": [
    "P_ = combinations(9,3)/combinations(15,3)\n",
    "P_"
   ]
  },
  {
   "cell_type": "code",
   "execution_count": 28,
   "id": "6b27dc87",
   "metadata": {},
   "outputs": [
    {
     "data": {
      "text/plain": [
       "0.18461538461538457"
      ]
     },
     "execution_count": 28,
     "metadata": {},
     "output_type": "execute_result"
    }
   ],
   "source": [
    "A1 = probability(9,15)\n",
    "A2 = probability(8,14)\n",
    "A3 = probability(7,13)\n",
    "\n",
    "P =A1*A2*A3\n",
    "P"
   ]
  },
  {
   "cell_type": "markdown",
   "id": "3b21a2e6",
   "metadata": {},
   "source": [
    "### Задача№4\n",
    "В лотерее 100 билетов. Из них 2 выигрышных. Какова вероятность того, что 2 приобретенных билета окажутся выигрышными?"
   ]
  },
  {
   "cell_type": "markdown",
   "id": "e3a5e3b0",
   "metadata": {},
   "source": [
    "$P(A)=\\frac{1}{100}\\cdot\\frac{1}{99}=\\frac{1}{9900}\\approx 0,000101$  оба купленых билета выигрышных"
   ]
  },
  {
   "cell_type": "code",
   "execution_count": 29,
   "id": "96be60da",
   "metadata": {},
   "outputs": [
    {
     "data": {
      "text/plain": [
       "0.00010101010101010102"
      ]
     },
     "execution_count": 29,
     "metadata": {},
     "output_type": "execute_result"
    }
   ],
   "source": [
    "A1 = probability(1,100)\n",
    "A2 = probability(1,99)\n",
    "P =A1*A2\n",
    "P"
   ]
  },
  {
   "cell_type": "markdown",
   "id": "35115fa7",
   "metadata": {},
   "source": [
    "## Задача№5\n",
    "На соревновании по биатлону один из трех спортсменов стреляет и попадает в мишень. Вероятность попадания для первого спортсмена равна 0.9, для второго — 0.8, для третьего — 0.6. Найти вероятность того, что выстрел произведен: a). первым спортсменом б). вторым спортсменом в). третьим спортсменом."
   ]
  },
  {
   "cell_type": "markdown",
   "id": "893b318b",
   "metadata": {},
   "source": [
    "Чтобы определить вероятность события $B$ при условии, что событие $A$ уже произошло, используют формулу Байеса:\n",
    "$$P(B\\:|\\:A) = \\frac{P(B) \\cdot P(A\\:|\\:B)}{P(A)}$$\n",
    "Равновероятно что выстрел произвел 1, 2 или 3 спортсмен значит $P(В_{1}) = P(В_{2}) = P(В_{3}) = \\frac{1}{3}$\n",
    "Полная вероятность всех этих событий будет расчитываться по формуле:\n",
    "$$P(A) = P(B_1) \\cdot P(A\\:|\\:B_1) + P(B_2) \\cdot P(A\\:|\\:B_2) \\; + ... + \\; P(B_n) \\cdot P(A\\:|\\:B_n)$$\n",
    "$P(А)=\\frac{1}{3} \\cdot 0,9 + \\frac{1}{3} \\cdot 0,8 + \\frac{1}{3} \\cdot 0,6 = \\frac{23}{30}$\n",
    "\n",
    "а)\n",
    "$P(А\\:|\\:В_{1}) = 0,9$\n",
    "$P(А\\:|\\:В_{1}) = \\frac{P(B_{1}) \\cdot P(А\\:|\\:В_{1})}{P(A)}= \\frac{\\frac{1}{3}\\cdot 0,9}{\\frac{23}{30}}= \\frac{9}{23}\\approx 0,391304$\n",
    "\n",
    "б)\n",
    "$P(А\\:|\\:В_{2}) = 0,8$\n",
    "$P(А\\:|\\:В_{2}) = \\frac{P(B_{2}) \\cdot P(А\\:|\\:В_{2})}{P(A)}= \\frac{\\frac{1}{3}\\cdot 0,8}{\\frac{23}{30}}= \\frac{8}{23}\\approx 0,347826$\n",
    "\n",
    "в)\n",
    "$P(А\\:|\\:В_{3}) = 0,6$\n",
    "$P(А\\:|\\:В_{3}) = \\frac{P(B_{3}) \\cdot P(А\\:|\\:В_{3})}{P(A)}= \\frac{\\frac{1}{3}\\cdot 0,6}{\\frac{23}{30}}= \\frac{6}{23}\\approx 0,260869$"
   ]
  },
  {
   "cell_type": "code",
   "execution_count": 30,
   "id": "d516ca7c",
   "metadata": {},
   "outputs": [],
   "source": [
    "def probability_of_an_event(PAB):\n",
    "    return (1/3)*PAB/(23/30)"
   ]
  },
  {
   "cell_type": "code",
   "execution_count": 31,
   "id": "f48a8227",
   "metadata": {},
   "outputs": [
    {
     "data": {
      "text/plain": [
       "0.3913043478260869"
      ]
     },
     "execution_count": 31,
     "metadata": {},
     "output_type": "execute_result"
    }
   ],
   "source": [
    "PAB1 = probability_of_an_event(0.9)\n",
    "PAB1"
   ]
  },
  {
   "cell_type": "code",
   "execution_count": 32,
   "id": "0e9ba7bb",
   "metadata": {},
   "outputs": [
    {
     "data": {
      "text/plain": [
       "0.34782608695652173"
      ]
     },
     "execution_count": 32,
     "metadata": {},
     "output_type": "execute_result"
    }
   ],
   "source": [
    "PAB2 = probability_of_an_event(0.8)\n",
    "PAB2"
   ]
  },
  {
   "cell_type": "code",
   "execution_count": 33,
   "id": "f90e10c4",
   "metadata": {},
   "outputs": [
    {
     "data": {
      "text/plain": [
       "0.26086956521739124"
      ]
     },
     "execution_count": 33,
     "metadata": {},
     "output_type": "execute_result"
    }
   ],
   "source": [
    "PAB3 = probability_of_an_event(0.6)\n",
    "PAB3"
   ]
  }
 ],
 "metadata": {
  "kernelspec": {
   "display_name": "Python 3 (ipykernel)",
   "language": "python",
   "name": "python3"
  },
  "language_info": {
   "codemirror_mode": {
    "name": "ipython",
    "version": 3
   },
   "file_extension": ".py",
   "mimetype": "text/x-python",
   "name": "python",
   "nbconvert_exporter": "python",
   "pygments_lexer": "ipython3",
   "version": "3.9.12"
  }
 },
 "nbformat": 4,
 "nbformat_minor": 5
}
