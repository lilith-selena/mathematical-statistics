{
 "cells": [
  {
   "cell_type": "markdown",
   "id": "1d8758d0",
   "metadata": {},
   "source": [
    "# Теория вероятностей и математическая статистика\n",
    "##  Урок 6. Взаимосвязь величин. Параметрические и непараметрические показатели корреляции. Корреляционный анализ.\n",
    "### Задача№1\n",
    "Даны значения величины заработной платы заемщиков банка (zp) и значения их поведенческого кредитного скоринга (ks):\n",
    "zp = [35, 45, 190, 200, 40, 70, 54, 150, 120, 110],\n",
    "ks = [401, 574, 874, 919, 459, 739, 653, 902, 746, 832].\n",
    "Найдите ковариацию этих двух величин с помощью элементарных действий, а затем с помощью функции cov из numpy\n",
    "Полученные значения должны быть равны.\n",
    "Найдите коэффициент корреляции Пирсона с помощью ковариации и среднеквадратичных отклонений двух признаков,\n",
    "а затем с использованием функций из библиотек numpy и pandas.\n",
    "****"
   ]
  },
  {
   "cell_type": "code",
   "execution_count": 32,
   "id": "e0ff37a2",
   "metadata": {},
   "outputs": [],
   "source": [
    "import numpy as np\n",
    "import pandas as pd"
   ]
  },
  {
   "cell_type": "code",
   "execution_count": 33,
   "id": "8183e75f",
   "metadata": {},
   "outputs": [],
   "source": [
    "zp=np.array([35, 45, 190, 200, 40, 70, 54, 150, 120, 110])\n",
    "ks=np.array([401, 574, 874, 919, 459, 739, 653, 902, 746, 832])"
   ]
  },
  {
   "cell_type": "code",
   "execution_count": 34,
   "id": "b03339cf",
   "metadata": {},
   "outputs": [
    {
     "name": "stdout",
     "output_type": "stream",
     "text": [
      "среднии значения 101.4, 709.9, 81141.7 \n",
      "и ковариация от двух величин 9157.839999999997\n"
     ]
    }
   ],
   "source": [
    "x_mean = zp.mean()\n",
    "y_mean = ks.mean()\n",
    "xy_mean = (zp*ks).mean()\n",
    "\n",
    "cov_ks = xy_mean - x_mean*y_mean\n",
    "\n",
    "print(f'среднии значения {x_mean}, {y_mean}, {xy_mean} \\nи ковариация от двух величин {cov_ks}')"
   ]
  },
  {
   "cell_type": "code",
   "execution_count": 35,
   "id": "679b25e8",
   "metadata": {},
   "outputs": [
    {
     "name": "stdout",
     "output_type": "stream",
     "text": [
      "Расчет cov из библиотеки numpy \n",
      "[[ 3494.64  9157.84]\n",
      " [ 9157.84 30468.89]]\n"
     ]
    }
   ],
   "source": [
    "print(f'Расчет cov из библиотеки numpy \\n{np.cov(zp, ks, ddof=0)}')"
   ]
  },
  {
   "cell_type": "code",
   "execution_count": 36,
   "id": "5f4a2fdc",
   "metadata": {},
   "outputs": [
    {
     "name": "stdout",
     "output_type": "stream",
     "text": [
      "9157.84\n",
      "Коэффициент корреляции Пирсона 0.8874900920739158 \n",
      "с помощью ковариации и среднеквадратичных отклонений двух признаков \n",
      "59.115480206118605\n",
      "174.55340157098058\n"
     ]
    }
   ],
   "source": [
    "cov_ks2 = ((zp-zp.mean())*(ks - ks.mean())).mean()\n",
    "x_std =zp.std()\n",
    "y_std =ks.std()\n",
    "corr_ks = cov_ks/(x_std*y_std)\n",
    "print(cov_ks2)\n",
    "print(f'Коэффициент корреляции Пирсона {corr_ks} \\nс помощью ковариации и среднеквадратичных отклонений двух признаков \\n{x_std}\\n{y_std}')"
   ]
  },
  {
   "cell_type": "code",
   "execution_count": 37,
   "id": "d5d060e2",
   "metadata": {},
   "outputs": [
    {
     "data": {
      "text/plain": [
       "array([[1.        , 0.88749009],\n",
       "       [0.88749009, 1.        ]])"
      ]
     },
     "execution_count": 37,
     "metadata": {},
     "output_type": "execute_result"
    }
   ],
   "source": [
    "np.corrcoef(zp, ks)"
   ]
  },
  {
   "cell_type": "markdown",
   "id": "6f92931e",
   "metadata": {},
   "source": [
    "### Задача№2\n",
    "Измерены значения IQ выборки студентов,\n",
    "обучающихся в местных технических вузах:\n",
    "131, 125, 115, 122, 131, 115, 107, 99, 125, 111.\n",
    "Известно, что в генеральной совокупности IQ распределен нормально.\n",
    "Найдите доверительный интервал для математического ожидания с надежностью 0.95.\n",
    "****"
   ]
  },
  {
   "cell_type": "code",
   "execution_count": 38,
   "id": "43a4af86",
   "metadata": {},
   "outputs": [
    {
     "data": {
      "text/plain": [
       "(110.55608365158724, 125.64391634841274)"
      ]
     },
     "execution_count": 38,
     "metadata": {},
     "output_type": "execute_result"
    }
   ],
   "source": [
    "from scipy.stats import t\n",
    "from scipy.stats import sem\n",
    "\n",
    "iq = [131, 125, 115, 122, 131, 115, 107, 99, 125, 111]\n",
    "\n",
    "t.interval(0.95, len(iq) - 1, loc=np.mean(iq), scale=sem(iq))"
   ]
  },
  {
   "cell_type": "markdown",
   "id": "bd639c16",
   "metadata": {},
   "source": [
    "### Задача№3\n",
    "Известно, что рост футболистов в сборной распределен нормально\n",
    "с дисперсией генеральной совокупности, равной 25 кв.см. Объем выборки равен 27,\n",
    "среднее выборочное составляет 174.2. Найдите доверительный интервал для математического\n",
    "ожидания с надежностью 0.95."
   ]
  },
  {
   "cell_type": "code",
   "execution_count": 39,
   "id": "e595be02",
   "metadata": {},
   "outputs": [
    {
     "data": {
      "text/plain": [
       "(172.3140237765397, 176.08597622346028)"
      ]
     },
     "execution_count": 39,
     "metadata": {},
     "output_type": "execute_result"
    }
   ],
   "source": [
    "from scipy.stats import norm\n",
    "\n",
    "se= 25**0.5 / 27**0.5 \n",
    "norm.interval(0.95, loc=174.2, scale=se)"
   ]
  }
 ],
 "metadata": {
  "kernelspec": {
   "display_name": "Python 3 (ipykernel)",
   "language": "python",
   "name": "python3"
  },
  "language_info": {
   "codemirror_mode": {
    "name": "ipython",
    "version": 3
   },
   "file_extension": ".py",
   "mimetype": "text/x-python",
   "name": "python",
   "nbconvert_exporter": "python",
   "pygments_lexer": "ipython3",
   "version": "3.9.12"
  }
 },
 "nbformat": 4,
 "nbformat_minor": 5
}
