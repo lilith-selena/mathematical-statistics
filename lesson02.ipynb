{
 "cells": [
  {
   "cell_type": "markdown",
   "id": "1d8758d0",
   "metadata": {},
   "source": [
    "# Теория вероятностей и математическая статистика\n",
    "## Урок 2. Дискретные случайные величины. Закон распределения вероятностей. Биномиальный закон распределения. Распределение Пуассона.\n",
    "### Задача№1\n",
    "Вероятность того, что стрелок попадет в мишень, выстрелив один раз, равна 0.8. Стрелок выстрелил 100 раз. Найдите вероятность того, что стрелок попадет в цель ровно 85 раз.\n",
    "****\n",
    "\n",
    "Число наступления события — это дискретная величина, вероятности возможных значений этой величины определяются по формуле Бернулли:\n",
    "$$P_{n}(X=k)=C^k_{n}p^{k}q^{n-k}$$"
   ]
  },
  {
   "cell_type": "markdown",
   "id": "a5bf586a",
   "metadata": {},
   "source": [
    "где $n=100$ - количество испытаний $\\\\k=85$ - количество наступления событий $\\\\p=0.8$ - вероятность наступления события $\\\\q=0.2$  q = 1 - p\n",
    "\n",
    "$$P_{100}(X=85)=C^{85}_{100}\\cdot0.8^{85}\\cdot0.2^{15}=\\frac{100!}{85!(100-85)!}\\cdot0.8^{85}\\cdot0.2^{15}\\approx 0.04806$$  \n",
    "посчитаем:"
   ]
  },
  {
   "cell_type": "code",
   "execution_count": 65,
   "id": "95ed9acf",
   "metadata": {},
   "outputs": [],
   "source": [
    "import numpy as np\n",
    "from math import factorial\n",
    "from math import exp"
   ]
  },
  {
   "cell_type": "code",
   "execution_count": 66,
   "id": "ba67709a",
   "metadata": {},
   "outputs": [],
   "source": [
    "def combinations(n, k):\n",
    "    return int(factorial(n) / (factorial(k) * factorial(n - k)))"
   ]
  },
  {
   "cell_type": "code",
   "execution_count": 67,
   "id": "740b149f",
   "metadata": {},
   "outputs": [],
   "source": [
    "def bernulli(n, k, p):\n",
    "    return combinations(n,k)*(p**k)*(1-p)**(n-k)"
   ]
  },
  {
   "cell_type": "code",
   "execution_count": 68,
   "id": "c9e7a4d7",
   "metadata": {},
   "outputs": [
    {
     "data": {
      "text/plain": [
       "0.048061793700746355"
      ]
     },
     "execution_count": 68,
     "metadata": {},
     "output_type": "execute_result"
    }
   ],
   "source": [
    "P100 = bernulli(100, 85, 0.8)\n",
    "P100"
   ]
  },
  {
   "cell_type": "markdown",
   "id": "6f92931e",
   "metadata": {},
   "source": [
    "### Задача№2\n",
    "Вероятность того, что лампочка перегорит в течение первого дня эксплуатации, равна 0.0004. В жилом комплексе после ремонта в один день включили 5000 новых лампочек. \n",
    "1. Какова вероятность, что ни одна из них не перегорит в первый день? \n",
    "2. Какова вероятность, что перегорят ровно две?\n",
    "****\n",
    "Если проводится большое количество испытаний  𝑛  и при этом вероятность  𝑝  появления события  𝐴  в отдельном испытании мала, применяют формулу Пуассона для вычисления вероятности того, что событие произойдет  𝑚  раз в  𝑛  испытаниях:\n",
    "$$P_m \\approx \\frac{\\lambda^m}{m!}e^{-\\lambda}$$\n",
    "где $λ = np$.\n",
    "\n",
    "$n=5000\\\\p=0.0004$"
   ]
  },
  {
   "cell_type": "code",
   "execution_count": 69,
   "id": "ea006bfb",
   "metadata": {},
   "outputs": [],
   "source": [
    "def Poisson(n, m, p):\n",
    "    return (((n*p)**m)/factorial(m))*exp(-(n*p))"
   ]
  },
  {
   "cell_type": "code",
   "execution_count": 70,
   "id": "78e683a4",
   "metadata": {},
   "outputs": [
    {
     "data": {
      "text/plain": [
       "0.1353352832366127"
      ]
     },
     "execution_count": 70,
     "metadata": {},
     "output_type": "execute_result"
    }
   ],
   "source": [
    "\"1. m = 0 \"\n",
    "P1 = Poisson(5000, 0, 0.0004)\n",
    "P1"
   ]
  },
  {
   "cell_type": "code",
   "execution_count": 71,
   "id": "c1ae8cda",
   "metadata": {},
   "outputs": [
    {
     "data": {
      "text/plain": [
       "0.2706705664732254"
      ]
     },
     "execution_count": 71,
     "metadata": {},
     "output_type": "execute_result"
    }
   ],
   "source": [
    "\"2. m = 2 \"\n",
    "P2 = Poisson(5000, 2, 0.0004)\n",
    "P2"
   ]
  },
  {
   "cell_type": "markdown",
   "id": "bd639c16",
   "metadata": {},
   "source": [
    "### Задача№3\n",
    "Монету подбросили 144 раза. Какова вероятность, что орел выпадет ровно 70 раз?\n",
    "***\n",
    "в данной задаче количество испытаний к вероятности появления событий предполагает использование формулы Бернули, при этом вероятность не выпадения орла $1-\\frac{70}{144} = 1-0.4861 \\approx 0.5138$:"
   ]
  },
  {
   "cell_type": "code",
   "execution_count": 72,
   "id": "553b0dbf",
   "metadata": {},
   "outputs": [
    {
     "data": {
      "text/plain": [
       "0.05324196892339454"
      ]
     },
     "execution_count": 72,
     "metadata": {},
     "output_type": "execute_result"
    }
   ],
   "source": [
    "P144 = bernulli(144, 70, 0.5138)\n",
    "P144"
   ]
  },
  {
   "cell_type": "markdown",
   "id": "3b21a2e6",
   "metadata": {},
   "source": [
    "### Задача№4\n",
    "В первом ящике находится 10 мячей, из которых 7 - белые. Во втором ящике - 11 мячей, из которых 9 белых. Из каждого ящика вытаскивают случайным образом по два мяча. \n",
    "1. Какова вероятность того, что все мячи белые? \n",
    "2. Какова вероятность того, что ровно два мяча белые? \n",
    "3. Какова вероятность того, что хотя бы один мяч белый?\n",
    "***\n",
    "1. $P(AB)=P(A)\\cdot P(B)=\\frac{C_{7}^2}{C_{10}^2}\\cdot\\frac{C_{9}^2}{C_{11}^2}= \\frac{\\frac{7!}{2!(7 - 2)!}}{\\frac{10!}{2!(10 - 2)!}}\\cdot \\frac{\\frac{!}{2!(9 - 2)!}}{\\frac{11!}{2!(11 - 2)!}} \\approx 0,3054$"
   ]
  },
  {
   "cell_type": "code",
   "execution_count": 73,
   "id": "14449085",
   "metadata": {},
   "outputs": [
    {
     "data": {
      "text/plain": [
       "0.3054545454545455"
      ]
     },
     "execution_count": 73,
     "metadata": {},
     "output_type": "execute_result"
    }
   ],
   "source": [
    "PAB1= combinations(7, 2)/combinations(10, 2)*combinations(9, 2)/combinations(11, 2)\n",
    "PAB1"
   ]
  },
  {
   "cell_type": "markdown",
   "id": "c56f9d62",
   "metadata": {},
   "source": [
    "2. извлечь 2 белых шара из всех можно следующими способами:\n",
    "\n",
    "События $A$-из первой корзины извлекли 2 белых шара и $B$-из второй корзины только не белые,\n",
    "События $C$-из первой корзины извлекли 0 белых шаров и $D$-из второй корзины извлекли 2 белых, \n",
    "События $E$-из первой корзины извлекли 1 бедый и 1 не белый шар, $F$-из второй корзины 1 бедый и 1 не белый шар.\n",
    "P равна сумме этих событий:  \n",
    "$P=P(A)\\cdot P(B)+P(C)\\cdot P(D)+P(E)\\cdot P(F)$  "
   ]
  },
  {
   "cell_type": "markdown",
   "id": "658cef7d",
   "metadata": {},
   "source": [
    "$P = P(A)\\cdot P(B)+P(C)\\cdot P(D)+P(E)\\cdot P(F)=\\frac{C_{7}^2}{C_{10}^2}\\cdot\\frac{C_{9}^0}{C_{11}^2}+\\frac{C_{7}^0}{C_{10}^2}\\cdot\\frac{C_{9}^2}{C_{11}^2}+\\frac{C_{7}^1}{C_{10}^2}\\cdot\\frac{C_{9}^1}{C_{11}^2}\\approx0.04848$"
   ]
  },
  {
   "cell_type": "code",
   "execution_count": 74,
   "id": "9cd399c0",
   "metadata": {},
   "outputs": [
    {
     "data": {
      "text/plain": [
       "0.048484848484848485"
      ]
     },
     "execution_count": 74,
     "metadata": {},
     "output_type": "execute_result"
    }
   ],
   "source": [
    "PAB2= combinations(7, 2)/combinations(10, 2)*combinations(9, 0)/combinations(11, 2)+combinations(7, 0)/combinations(10, 2)*combinations(9, 2)/combinations(11, 2)+combinations(7, 1)/combinations(10, 2)*combinations(9, 1)/combinations(11, 2)\n",
    "PAB2"
   ]
  },
  {
   "cell_type": "markdown",
   "id": "6bf6ab25",
   "metadata": {},
   "source": [
    "3. В данном случае удобнее рассмотреть событие $\\bar A$-\"не было извлечено **ни одного** белого мяча\", которое наряду с искомым событием $A$-\"был извлечен хотя бы 1 белый мяч\", составляют **полную группу** событий, по скольку в результате испытаний может произойти **только** либо событие $A$, либо событие $\\bar A$, и поэтому:  \n",
    "$P(A)=1-P(\\bar A)\\approx0.99878$  \n",
    "Для наступления события $\\bar A$ необходимо чтобы из первой и второй корзин не было вынуто ни одного белого мяча, число таких благоприятных исходов для первой корзины $m_1=C^2_3$ а для второй $C^2_2$  \n",
    "Вычислим $m_1$ и $m_2$:\n",
    "Тогда  𝑃(𝐴¯)=𝑚1𝑛1⋅𝑚2𝑛2 , вычислим  𝑃(𝐴¯)  и  𝑃(𝐴) \n",
    "Тогда $P(\\bar A)=\\frac{m1}{n1}\\cdot\\frac{m2}{n2}$, вычислим $P(\\bar A)$ и $P(A)$\n",
    "\n",
    "Число благоприятных элементарных исходов для первой корзины - $m1$,число благоприятных элементарных исходов для второй корзины -$ m2$"
   ]
  },
  {
   "cell_type": "code",
   "execution_count": 75,
   "id": "8f92d6a9",
   "metadata": {},
   "outputs": [
    {
     "name": "stdout",
     "output_type": "stream",
     "text": [
      "3 1\n"
     ]
    }
   ],
   "source": [
    "m1=combinations(3,2)\n",
    "m2=combinations(2,2)\n",
    "print(m1, m2)"
   ]
  },
  {
   "cell_type": "code",
   "execution_count": 76,
   "id": "b73a9d97",
   "metadata": {},
   "outputs": [
    {
     "data": {
      "text/plain": [
       "0.9987878787878788"
      ]
     },
     "execution_count": 76,
     "metadata": {},
     "output_type": "execute_result"
    }
   ],
   "source": [
    "#Вероятность того, что не будет извлечено ни одного белого мяча\n",
    "Р_reverse =(m1/combinations(10,2))*(m2/combinations(11,2))\n",
    "#Вероятность того, что будет извлечен хотя бы один белый мяч\n",
    "PAB3= 1-Р_reverse\n",
    "PAB3"
   ]
  }
 ],
 "metadata": {
  "kernelspec": {
   "display_name": "Python 3 (ipykernel)",
   "language": "python",
   "name": "python3"
  },
  "language_info": {
   "codemirror_mode": {
    "name": "ipython",
    "version": 3
   },
   "file_extension": ".py",
   "mimetype": "text/x-python",
   "name": "python",
   "nbconvert_exporter": "python",
   "pygments_lexer": "ipython3",
   "version": "3.9.12"
  }
 },
 "nbformat": 4,
 "nbformat_minor": 5
}
